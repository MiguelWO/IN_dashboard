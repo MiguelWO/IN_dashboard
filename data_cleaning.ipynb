{
 "cells": [
  {
   "cell_type": "code",
   "execution_count": 1,
   "id": "initial_id",
   "metadata": {
    "collapsed": true,
    "ExecuteTime": {
     "end_time": "2024-10-05T23:20:59.857648900Z",
     "start_time": "2024-10-05T23:20:59.843680200Z"
    }
   },
   "outputs": [],
   "source": [
    "import pandas as pd\n",
    "import numpy as np\n",
    "import matplotlib.pyplot as plt\n",
    "import seaborn as sns\n",
    "import os"
   ]
  },
  {
   "cell_type": "code",
   "execution_count": 2,
   "outputs": [],
   "source": [
    "tables = [\"DimCurrency\", \"DimCustomer\", \"DimDate\", \"DimEmployee\",\n",
    "              \"DimGeography\", \"DimProduct\", \"DimProductCategory\", \"DimProductSubcategory\",\n",
    "              \"DimPromotion\", \"DimSalesTerritory\", \"FactInternetSales\", \"FactResellerSales\"]"
   ],
   "metadata": {
    "collapsed": false,
    "ExecuteTime": {
     "end_time": "2024-10-05T23:21:05.148187800Z",
     "start_time": "2024-10-05T23:21:05.126474300Z"
    }
   },
   "id": "b79b471b7d100fb9"
  },
  {
   "cell_type": "code",
   "execution_count": 3,
   "outputs": [],
   "source": [
    "# Load data\n",
    "\n",
    "DimCurrency = pd.read_csv(\"data/DimCurrency.csv\")\n",
    "DimCustomer = pd.read_csv(\"data/DimCustomer.csv\")\n",
    "DimDate = pd.read_csv(\"data/DimDate.csv\")\n",
    "DimEmployee = pd.read_csv(\"data/DimEmployee.csv\")\n",
    "DimGeography = pd.read_csv(\"data/DimGeography.csv\")\n",
    "DimProduct = pd.read_csv(\"data/DimProduct.csv\")\n",
    "DimProductCategory = pd.read_csv(\"data/DimProductCategory.csv\")\n",
    "DimProductSubcategory = pd.read_csv(\"data/DimProductSubcategory.csv\")\n",
    "DimPromotion = pd.read_csv(\"data/DimPromotion.csv\")\n",
    "DimSalesTerritory = pd.read_csv(\"data/DimSalesTerritory.csv\")\n",
    "FactInternetSales = pd.read_csv(\"data/FactInternetSales.csv\")\n",
    "FactResellerSales = pd.read_csv(\"data/FactResellerSales.csv\")"
   ],
   "metadata": {
    "collapsed": false,
    "ExecuteTime": {
     "end_time": "2024-10-05T23:21:55.103469800Z",
     "start_time": "2024-10-05T23:21:54.381551400Z"
    }
   },
   "id": "a14a1a5e6ea77972"
  },
  {
   "cell_type": "code",
   "execution_count": 4,
   "outputs": [
    {
     "data": {
      "text/plain": "   CurrencyKey CurrencyAlternateKey    CurrencyName\n0            1                  AFA         Afghani\n1            2                  DZD  Algerian Dinar\n2            3                  ARS  Argentine Peso\n3            4                  AMD   Armenian Dram\n4            5                  AWG  Aruban Guilder",
      "text/html": "<div>\n<style scoped>\n    .dataframe tbody tr th:only-of-type {\n        vertical-align: middle;\n    }\n\n    .dataframe tbody tr th {\n        vertical-align: top;\n    }\n\n    .dataframe thead th {\n        text-align: right;\n    }\n</style>\n<table border=\"1\" class=\"dataframe\">\n  <thead>\n    <tr style=\"text-align: right;\">\n      <th></th>\n      <th>CurrencyKey</th>\n      <th>CurrencyAlternateKey</th>\n      <th>CurrencyName</th>\n    </tr>\n  </thead>\n  <tbody>\n    <tr>\n      <th>0</th>\n      <td>1</td>\n      <td>AFA</td>\n      <td>Afghani</td>\n    </tr>\n    <tr>\n      <th>1</th>\n      <td>2</td>\n      <td>DZD</td>\n      <td>Algerian Dinar</td>\n    </tr>\n    <tr>\n      <th>2</th>\n      <td>3</td>\n      <td>ARS</td>\n      <td>Argentine Peso</td>\n    </tr>\n    <tr>\n      <th>3</th>\n      <td>4</td>\n      <td>AMD</td>\n      <td>Armenian Dram</td>\n    </tr>\n    <tr>\n      <th>4</th>\n      <td>5</td>\n      <td>AWG</td>\n      <td>Aruban Guilder</td>\n    </tr>\n  </tbody>\n</table>\n</div>"
     },
     "execution_count": 4,
     "metadata": {},
     "output_type": "execute_result"
    }
   ],
   "source": [
    "DimCurrency.head()"
   ],
   "metadata": {
    "collapsed": false,
    "ExecuteTime": {
     "end_time": "2024-10-05T23:22:01.416725600Z",
     "start_time": "2024-10-05T23:22:01.395758200Z"
    }
   },
   "id": "c7529117950f4622"
  },
  {
   "cell_type": "code",
   "execution_count": 5,
   "outputs": [
    {
     "data": {
      "text/plain": "   CustomerKey  GeographyKey CustomerAlternateKey Title  FirstName MiddleName  \\\n0        11000            26           AW00011000   NaN        Jon          V   \n1        11001            37           AW00011001   NaN     Eugene          L   \n2        11002            31           AW00011002   NaN      Ruben        NaN   \n3        11003            11           AW00011003   NaN    Christy        NaN   \n4        11004            19           AW00011004   NaN  Elizabeth        NaN   \n\n  LastName  NameStyle   BirthDate MaritalStatus  ... EnglishOccupation  \\\n0     Yang      False  1971-10-06             M  ...      Professional   \n1    Huang      False  1976-05-10             S  ...      Professional   \n2   Torres      False  1971-02-09             M  ...      Professional   \n3      Zhu      False  1973-08-14             S  ...      Professional   \n4  Johnson      False  1979-08-05             S  ...      Professional   \n\n  SpanishOccupation FrenchOccupation  HouseOwnerFlag  NumberCarsOwned  \\\n0       Profesional            Cadre               1                0   \n1       Profesional            Cadre               0                1   \n2       Profesional            Cadre               1                1   \n3       Profesional            Cadre               0                1   \n4       Profesional            Cadre               1                4   \n\n          AddressLine1 AddressLine2                Phone DateFirstPurchase  \\\n0      3761 N. 14th St          NaN  1 (11) 500 555-0162        2011-01-19   \n1           2243 W St.          NaN  1 (11) 500 555-0110        2011-01-15   \n2     5844 Linden Land          NaN  1 (11) 500 555-0184        2011-01-07   \n3     1825 Village Pl.          NaN  1 (11) 500 555-0162        2010-12-29   \n4  7553 Harness Circle          NaN  1 (11) 500 555-0131        2011-01-23   \n\n  CommuteDistance  \n0       1-2 Miles  \n1       0-1 Miles  \n2       2-5 Miles  \n3      5-10 Miles  \n4       1-2 Miles  \n\n[5 rows x 29 columns]",
      "text/html": "<div>\n<style scoped>\n    .dataframe tbody tr th:only-of-type {\n        vertical-align: middle;\n    }\n\n    .dataframe tbody tr th {\n        vertical-align: top;\n    }\n\n    .dataframe thead th {\n        text-align: right;\n    }\n</style>\n<table border=\"1\" class=\"dataframe\">\n  <thead>\n    <tr style=\"text-align: right;\">\n      <th></th>\n      <th>CustomerKey</th>\n      <th>GeographyKey</th>\n      <th>CustomerAlternateKey</th>\n      <th>Title</th>\n      <th>FirstName</th>\n      <th>MiddleName</th>\n      <th>LastName</th>\n      <th>NameStyle</th>\n      <th>BirthDate</th>\n      <th>MaritalStatus</th>\n      <th>...</th>\n      <th>EnglishOccupation</th>\n      <th>SpanishOccupation</th>\n      <th>FrenchOccupation</th>\n      <th>HouseOwnerFlag</th>\n      <th>NumberCarsOwned</th>\n      <th>AddressLine1</th>\n      <th>AddressLine2</th>\n      <th>Phone</th>\n      <th>DateFirstPurchase</th>\n      <th>CommuteDistance</th>\n    </tr>\n  </thead>\n  <tbody>\n    <tr>\n      <th>0</th>\n      <td>11000</td>\n      <td>26</td>\n      <td>AW00011000</td>\n      <td>NaN</td>\n      <td>Jon</td>\n      <td>V</td>\n      <td>Yang</td>\n      <td>False</td>\n      <td>1971-10-06</td>\n      <td>M</td>\n      <td>...</td>\n      <td>Professional</td>\n      <td>Profesional</td>\n      <td>Cadre</td>\n      <td>1</td>\n      <td>0</td>\n      <td>3761 N. 14th St</td>\n      <td>NaN</td>\n      <td>1 (11) 500 555-0162</td>\n      <td>2011-01-19</td>\n      <td>1-2 Miles</td>\n    </tr>\n    <tr>\n      <th>1</th>\n      <td>11001</td>\n      <td>37</td>\n      <td>AW00011001</td>\n      <td>NaN</td>\n      <td>Eugene</td>\n      <td>L</td>\n      <td>Huang</td>\n      <td>False</td>\n      <td>1976-05-10</td>\n      <td>S</td>\n      <td>...</td>\n      <td>Professional</td>\n      <td>Profesional</td>\n      <td>Cadre</td>\n      <td>0</td>\n      <td>1</td>\n      <td>2243 W St.</td>\n      <td>NaN</td>\n      <td>1 (11) 500 555-0110</td>\n      <td>2011-01-15</td>\n      <td>0-1 Miles</td>\n    </tr>\n    <tr>\n      <th>2</th>\n      <td>11002</td>\n      <td>31</td>\n      <td>AW00011002</td>\n      <td>NaN</td>\n      <td>Ruben</td>\n      <td>NaN</td>\n      <td>Torres</td>\n      <td>False</td>\n      <td>1971-02-09</td>\n      <td>M</td>\n      <td>...</td>\n      <td>Professional</td>\n      <td>Profesional</td>\n      <td>Cadre</td>\n      <td>1</td>\n      <td>1</td>\n      <td>5844 Linden Land</td>\n      <td>NaN</td>\n      <td>1 (11) 500 555-0184</td>\n      <td>2011-01-07</td>\n      <td>2-5 Miles</td>\n    </tr>\n    <tr>\n      <th>3</th>\n      <td>11003</td>\n      <td>11</td>\n      <td>AW00011003</td>\n      <td>NaN</td>\n      <td>Christy</td>\n      <td>NaN</td>\n      <td>Zhu</td>\n      <td>False</td>\n      <td>1973-08-14</td>\n      <td>S</td>\n      <td>...</td>\n      <td>Professional</td>\n      <td>Profesional</td>\n      <td>Cadre</td>\n      <td>0</td>\n      <td>1</td>\n      <td>1825 Village Pl.</td>\n      <td>NaN</td>\n      <td>1 (11) 500 555-0162</td>\n      <td>2010-12-29</td>\n      <td>5-10 Miles</td>\n    </tr>\n    <tr>\n      <th>4</th>\n      <td>11004</td>\n      <td>19</td>\n      <td>AW00011004</td>\n      <td>NaN</td>\n      <td>Elizabeth</td>\n      <td>NaN</td>\n      <td>Johnson</td>\n      <td>False</td>\n      <td>1979-08-05</td>\n      <td>S</td>\n      <td>...</td>\n      <td>Professional</td>\n      <td>Profesional</td>\n      <td>Cadre</td>\n      <td>1</td>\n      <td>4</td>\n      <td>7553 Harness Circle</td>\n      <td>NaN</td>\n      <td>1 (11) 500 555-0131</td>\n      <td>2011-01-23</td>\n      <td>1-2 Miles</td>\n    </tr>\n  </tbody>\n</table>\n<p>5 rows × 29 columns</p>\n</div>"
     },
     "execution_count": 5,
     "metadata": {},
     "output_type": "execute_result"
    }
   ],
   "source": [
    "DimCustomer.head()\n"
   ],
   "metadata": {
    "collapsed": false,
    "ExecuteTime": {
     "end_time": "2024-10-05T23:22:10.903792200Z",
     "start_time": "2024-10-05T23:22:10.866195Z"
    }
   },
   "id": "7675de888dcd7467"
  },
  {
   "cell_type": "code",
   "execution_count": null,
   "outputs": [],
   "source": [],
   "metadata": {
    "collapsed": false
   },
   "id": "fa2f5c65030353fb"
  }
 ],
 "metadata": {
  "kernelspec": {
   "display_name": "Python 3",
   "language": "python",
   "name": "python3"
  },
  "language_info": {
   "codemirror_mode": {
    "name": "ipython",
    "version": 2
   },
   "file_extension": ".py",
   "mimetype": "text/x-python",
   "name": "python",
   "nbconvert_exporter": "python",
   "pygments_lexer": "ipython2",
   "version": "2.7.6"
  }
 },
 "nbformat": 4,
 "nbformat_minor": 5
}
